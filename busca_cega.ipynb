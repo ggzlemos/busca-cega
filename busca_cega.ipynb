{
  "nbformat": 4,
  "nbformat_minor": 0,
  "metadata": {
    "colab": {
      "name": "busca-cega.ipynb",
      "provenance": [],
      "collapsed_sections": [],
      "authorship_tag": "ABX9TyPEKaHY2YFqEqyC/P3h5DAf",
      "include_colab_link": true
    },
    "kernelspec": {
      "name": "python3",
      "display_name": "Python 3"
    },
    "language_info": {
      "name": "python"
    }
  },
  "cells": [
    {
      "cell_type": "markdown",
      "metadata": {
        "id": "view-in-github",
        "colab_type": "text"
      },
      "source": [
        "<a href=\"https://colab.research.google.com/github/ggzlemos/busca-cega/blob/main/busca_cega.ipynb\" target=\"_parent\"><img src=\"https://colab.research.google.com/assets/colab-badge.svg\" alt=\"Open In Colab\"/></a>"
      ]
    },
    {
      "cell_type": "markdown",
      "metadata": {
        "id": "JxDQ4R8Qpb1I"
      },
      "source": [
        "# O Problema\n",
        "Sliding Puzzle - Bloco Deslizante"
      ]
    },
    {
      "cell_type": "code",
      "metadata": {
        "colab": {
          "base_uri": "https://localhost:8080/",
          "height": 217
        },
        "id": "LQV7m6mepf6x",
        "outputId": "61d7e1aa-ee87-49e8-c24b-463279e8a1c0"
      },
      "source": [
        "# !wget -qq https://miro.medium.com/max/700/1*W7jg4GmEjGBypd9WPktasQ.gif\n",
        "from IPython.display import Image\n",
        "Image(url='https://miro.medium.com/max/700/1*W7jg4GmEjGBypd9WPktasQ.gif',width=200)"
      ],
      "execution_count": null,
      "outputs": [
        {
          "output_type": "execute_result",
          "data": {
            "text/html": [
              "<img src=\"https://miro.medium.com/max/700/1*W7jg4GmEjGBypd9WPktasQ.gif\" width=\"200\"/>"
            ],
            "text/plain": [
              "<IPython.core.display.Image object>"
            ]
          },
          "metadata": {
            "tags": []
          },
          "execution_count": 21
        }
      ]
    },
    {
      "cell_type": "markdown",
      "metadata": {
        "id": "EihMAGpypna7"
      },
      "source": [
        "# Resolver o quebra-cabeças usando Buscas"
      ]
    },
    {
      "cell_type": "markdown",
      "metadata": {
        "id": "2supdONhpycP"
      },
      "source": [
        "###Importações:"
      ]
    },
    {
      "cell_type": "code",
      "metadata": {
        "id": "SPXKGPvqnCpm"
      },
      "source": [
        "import numpy as np"
      ],
      "execution_count": 1,
      "outputs": []
    },
    {
      "cell_type": "markdown",
      "metadata": {
        "id": "KTBD55SSp2pm"
      },
      "source": [
        "###Classe para representar os estados:"
      ]
    },
    {
      "cell_type": "code",
      "metadata": {
        "id": "aP-ulhNLpFuE"
      },
      "source": [
        "class Nodo:\n",
        "  def __init__(self, estado):       \n",
        "    self.estado = estado\n",
        "    self.caminho = []\n",
        "    self.pai = None\n",
        "\n",
        "  def getEstado(self):\n",
        "    return self.estado\n",
        "\n",
        "  def setPai(self, nodo):\n",
        "    self.pai = nodo\n",
        "\n",
        "  def getPai(self):\n",
        "    return self.pai  \n",
        "   \n",
        "  def coordVazio(self):\n",
        "    i, j = np.where(self.estado == 0)\n",
        "    return i[0], j[0]\n",
        "\n",
        "  def constroiCaminho(self):\n",
        "    caminho = []\n",
        "    filho = self\n",
        "    pai = self.getPai()\n",
        "    while pai != None:\n",
        "      caminho.append(pai.getEstado())\n",
        "      pai = pai.getPai()    \n",
        "    caminho.reverse()\n",
        "    caminho.append(self.estado)\n",
        "    self.caminho = caminho\n",
        "\n",
        "  def imprimeCaminho(self):\n",
        "    self.constroiCaminho()\n",
        "    print(\"Resultado:\")\n",
        "    for i in self.caminho:\n",
        "      print(i)\n",
        "    \n",
        "  def getProfundidade(self):\n",
        "    return len(self.caminho)-1\n",
        "\n",
        "  def getDim(self):\n",
        "    return self.estado.shape\n",
        "\n",
        "  def geraEstados(self):\n",
        "    vizinhos = []  \n",
        "    I, J = self.getDim()\n",
        "    i, j = self.coordVazio() \n",
        "    dj = np.array([-1, 1, 0, 0])\n",
        "    di = np.array([0, 0, 1, -1])\n",
        "        \n",
        "    for k in range(0, 4):\n",
        "      i_novo = i + di[k]\n",
        "      j_novo = j + dj[k]  \n",
        "      if not i_novo < 0 and not j_novo < 0:\n",
        "        if not i_novo >= I and not j_novo >= J:\n",
        "          novo_vizinho = self.estado.copy()       \n",
        "          novo_vizinho[i][j], novo_vizinho[i_novo][j_novo] = novo_vizinho[i_novo][j_novo], novo_vizinho[i][j]\n",
        "          novo_vizinho = Nodo(novo_vizinho)        \n",
        "          vizinhos.append(novo_vizinho)                  \n",
        "    return vizinhos "
      ],
      "execution_count": 2,
      "outputs": []
    },
    {
      "cell_type": "markdown",
      "metadata": {
        "id": "_as5GVjPEuMj"
      },
      "source": [
        "###Função auxiliar para verificar se um nodo já foi visitado: "
      ]
    },
    {
      "cell_type": "code",
      "metadata": {
        "id": "hIzlxRLZSzE5"
      },
      "source": [
        "def foi_visitado(visitados, estado):\n",
        "  for i in visitados:\n",
        "    if np.array_equal(i, estado):\n",
        "      return True\n",
        "  return False"
      ],
      "execution_count": 5,
      "outputs": []
    },
    {
      "cell_type": "markdown",
      "metadata": {
        "id": "m37tGEXgqTvr"
      },
      "source": [
        "## Busca em largura"
      ]
    },
    {
      "cell_type": "code",
      "metadata": {
        "id": "eLwjmw185FMJ"
      },
      "source": [
        "def bfs(estado_inicial, estado_final):\n",
        "  fila = [estado_inicial]\n",
        "  visitados = []\n",
        "\n",
        "  while len(fila) > 0:     \n",
        "    nodo = fila.pop(0)\n",
        "    visitados.append(nodo.getEstado())\n",
        "    if np.array_equal(nodo.getEstado(), estado_final):             \n",
        "        return nodo       \n",
        "    vizinhanca = nodo.geraEstados()\n",
        "    for proximo in vizinhanca:               \n",
        "      if not foi_visitado(visitados, proximo.getEstado()):                                                        \n",
        "          fila.append(proximo)\n",
        "          proximo.setPai(nodo)"
      ],
      "execution_count": 3,
      "outputs": []
    },
    {
      "cell_type": "markdown",
      "metadata": {
        "id": "s13d_1k9z7Cr"
      },
      "source": [
        "####Instância do problema para ser resolvida usando Busca em Largura:"
      ]
    },
    {
      "cell_type": "code",
      "metadata": {
        "colab": {
          "base_uri": "https://localhost:8080/"
        },
        "id": "rN9QTXuWRZEC",
        "outputId": "304d7328-015f-4b10-f6e3-d6cb7b55826e"
      },
      "source": [
        "estado_inicial = Nodo(np.array([1,2,3,4,5,6,0,7,8]).reshape((3,3)))\n",
        "estado_final = np.array([1,2,3,4,5,6,7,8,0]).reshape((3,3))\n",
        "resultado = bfs(estado_inicial, estado_final)\n",
        "resultado.imprimeCaminho()"
      ],
      "execution_count": 6,
      "outputs": [
        {
          "output_type": "stream",
          "text": [
            "Resultado:\n",
            "[[1 2 3]\n",
            " [4 5 6]\n",
            " [0 7 8]]\n",
            "[[1 2 3]\n",
            " [4 5 6]\n",
            " [7 0 8]]\n",
            "[[1 2 3]\n",
            " [4 5 6]\n",
            " [7 8 0]]\n"
          ],
          "name": "stdout"
        }
      ]
    },
    {
      "cell_type": "markdown",
      "metadata": {
        "id": "uFlBtMcaqWAK"
      },
      "source": [
        "## Busca em profundidade"
      ]
    },
    {
      "cell_type": "code",
      "metadata": {
        "id": "I3pr_9DVlWNe"
      },
      "source": [
        "def dfs(estado_inicial, estado_final):\n",
        "  pilha =[estado_inicial]\n",
        "  visitados = []\n",
        "  while len(pilha) > 0: \n",
        "    nodo = pilha.pop()    \n",
        "    visitados.append(nodo.getEstado())\n",
        "    if np.array_equal(nodo.getEstado(), estado_final):          \n",
        "        return nodo    \n",
        "    vizinhanca = nodo.geraEstados()           \n",
        "    for proximo in vizinhanca:\n",
        "      if not foi_visitado(visitados, proximo.getEstado()):                                                 \n",
        "        pilha.append(proximo)               \n",
        "        proximo.setPai(nodo)                           \n",
        "  return Nodo(np.array([]))   #retorna um nodo vazio caso falhe em encontrar solução "
      ],
      "execution_count": 7,
      "outputs": []
    },
    {
      "cell_type": "markdown",
      "metadata": {
        "id": "8BRkuf6S1kzJ"
      },
      "source": [
        "####Instância do problema para ser resolvida usando Busca em Profundidade:\n",
        "\n",
        "\n"
      ]
    },
    {
      "cell_type": "code",
      "metadata": {
        "id": "n5NlZMgVnTkv",
        "colab": {
          "base_uri": "https://localhost:8080/"
        },
        "outputId": "b2086242-e68f-4d0d-ddb6-f4ae81d9df33"
      },
      "source": [
        "a = np.array([1,2,3,4,5,6,7,0,8]).reshape((3,3))\n",
        "estado_final = np.array([1,2,3,4,5,6,7,8,0]).reshape((3,3))\n",
        "estado_inicial = Nodo(a)\n",
        "resultado = dfs(estado_inicial, estado_final)\n",
        "resultado.imprimeCaminho()"
      ],
      "execution_count": 8,
      "outputs": [
        {
          "output_type": "stream",
          "text": [
            "Resultado:\n",
            "[[1 2 3]\n",
            " [4 5 6]\n",
            " [7 0 8]]\n",
            "[[1 2 3]\n",
            " [4 0 6]\n",
            " [7 5 8]]\n",
            "[[1 0 3]\n",
            " [4 2 6]\n",
            " [7 5 8]]\n",
            "[[1 3 0]\n",
            " [4 2 6]\n",
            " [7 5 8]]\n",
            "[[1 3 6]\n",
            " [4 2 0]\n",
            " [7 5 8]]\n",
            "[[1 3 6]\n",
            " [4 2 8]\n",
            " [7 5 0]]\n",
            "[[1 3 6]\n",
            " [4 2 8]\n",
            " [7 0 5]]\n",
            "[[1 3 6]\n",
            " [4 0 8]\n",
            " [7 2 5]]\n",
            "[[1 0 6]\n",
            " [4 3 8]\n",
            " [7 2 5]]\n",
            "[[1 6 0]\n",
            " [4 3 8]\n",
            " [7 2 5]]\n",
            "[[1 6 8]\n",
            " [4 3 0]\n",
            " [7 2 5]]\n",
            "[[1 6 8]\n",
            " [4 3 5]\n",
            " [7 2 0]]\n",
            "[[1 6 8]\n",
            " [4 3 5]\n",
            " [7 0 2]]\n",
            "[[1 6 8]\n",
            " [4 0 5]\n",
            " [7 3 2]]\n",
            "[[1 0 8]\n",
            " [4 6 5]\n",
            " [7 3 2]]\n",
            "[[1 8 0]\n",
            " [4 6 5]\n",
            " [7 3 2]]\n",
            "[[1 8 5]\n",
            " [4 6 0]\n",
            " [7 3 2]]\n",
            "[[1 8 5]\n",
            " [4 6 2]\n",
            " [7 3 0]]\n",
            "[[1 8 5]\n",
            " [4 6 2]\n",
            " [7 0 3]]\n",
            "[[1 8 5]\n",
            " [4 0 2]\n",
            " [7 6 3]]\n",
            "[[1 0 5]\n",
            " [4 8 2]\n",
            " [7 6 3]]\n",
            "[[1 5 0]\n",
            " [4 8 2]\n",
            " [7 6 3]]\n",
            "[[1 5 2]\n",
            " [4 8 0]\n",
            " [7 6 3]]\n",
            "[[1 5 2]\n",
            " [4 8 3]\n",
            " [7 6 0]]\n",
            "[[1 5 2]\n",
            " [4 8 3]\n",
            " [7 0 6]]\n",
            "[[1 5 2]\n",
            " [4 0 3]\n",
            " [7 8 6]]\n",
            "[[1 0 2]\n",
            " [4 5 3]\n",
            " [7 8 6]]\n",
            "[[1 2 0]\n",
            " [4 5 3]\n",
            " [7 8 6]]\n",
            "[[1 2 3]\n",
            " [4 5 0]\n",
            " [7 8 6]]\n",
            "[[1 2 3]\n",
            " [4 5 6]\n",
            " [7 8 0]]\n"
          ],
          "name": "stdout"
        }
      ]
    },
    {
      "cell_type": "markdown",
      "metadata": {
        "id": "qmcT38Xi5GiY"
      },
      "source": [
        "##Algumas considerações sobre o uso de memória:\n",
        "\n",
        "\n",
        "####Embora encontre a solução do problemas em número menor movimentos, a busca em largura utiliza mais memória do que a busca em profundidade. Isso acontece pois a busca em largura encontra a solução mais 'rasa', ou seja, no menor número de camadas exploradas possíveis (com isso, dependendo do problema, não garante que a solução encontrada é ótima). Para isso, adiciona à uma estrutura de dados (fila) todos os estados daquela camada.\n",
        "\n",
        "####Em contrapartida, o algoritmo de busca em profundidade gasta menos memória por não armazenar todos os estados de uma camada da árvore de estados, porém encontra uma solução mais \"profunda\", ou seja, em maior número de movimentos. Além disso, o algoritmo de busca em profundidade não garante encontrar uma solução para o problema.\n",
        "\n",
        "####Na prática, nenhum dos algoritmos apresentados se mostrou muito útil para solucionar o problema proposto. O algoritmo de busca em largura, em alguns casos, pode estourar a capacidade de memória por armazenar os estados das camadas e o algoritmo de busca em profundidade pode não encontrar uma solução para o problema.   \n",
        "\n"
      ]
    }
  ]
}